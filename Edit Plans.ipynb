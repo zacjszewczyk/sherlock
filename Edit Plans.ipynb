{
 "cells": [
  {
   "cell_type": "code",
   "execution_count": 10,
   "id": "227aaf0a-3dde-4fd6-874e-899abd6f86fe",
   "metadata": {},
   "outputs": [
    {
     "name": "stderr",
     "output_type": "stream",
     "text": [
      "2025-07-18 06:52:55,769 - INFO - Scanning for JSON files in: C:\\Users\\zacjszewczyk\\My Drive\\Google AI Studio\\techniques\n"
     ]
    }
   ],
   "source": [
    "import os\n",
    "import json\n",
    "import logging\n",
    "\n",
    "# --- 1. Configure Logging ---\n",
    "# Sets up basic logging to print INFO level messages and above to the console.\n",
    "logging.basicConfig(\n",
    "    level=logging.INFO, \n",
    "    format='%(asctime)s - %(levelname)s - %(message)s'\n",
    ")\n",
    "\n",
    "# --- 2. Get Current Directory ---\n",
    "# os.getcwd() returns the path of the current working directory.\n",
    "current_directory = os.getcwd()\n",
    "logging.info(f\"Scanning for JSON files in: {current_directory}\")\n",
    "\n",
    "# --- 3. Iterate, Read, and Parse Files ---\n",
    "# os.listdir() provides a list of all files and directories in a given path.\n",
    "for filename in os.listdir(current_directory):\n",
    "    \n",
    "    # Process only files ending with .json\n",
    "    if filename.endswith('.json'):\n",
    "        file_path = os.path.join(current_directory, filename)\n",
    "        # logging.info(f\"--- Processing {filename} ---\")\n",
    "        \n",
    "        try:\n",
    "            # Use 'with' for safe file handling\n",
    "            with open(file_path, 'r', encoding='utf-8') as f:\n",
    "                # Read the entire file content\n",
    "                content = f.read()\n",
    "                \n",
    "                # Check if the file is empty to avoid an error\n",
    "                if not content:\n",
    "                    # logging.warning(f\"File {filename} is empty.\")\n",
    "                    continue\n",
    "                \n",
    "                # Attempt to parse the JSON string\n",
    "                data = json.loads(content)\n",
    "            \n",
    "            # logging.info(f\"Successfully validated and loaded {filename}\")\n",
    "\n",
    "        # Catch errors specifically related to malformed JSON\n",
    "        except json.JSONDecodeError as e:\n",
    "            logging.error(f\"INVALID JSON in {filename}. Details: {e}\")\n",
    "            with open(file_path, 'w', encoding='utf-8') as f:\n",
    "                # Read the entire file content\n",
    "                f.write(content.replace(\"```json\", \"\").replace(\"```\", \"\"))\n",
    "            \n",
    "        # Catch any other potential exceptions (e.g., permission errors)\n",
    "        except Exception as e:\n",
    "            logging.error(f\"An unexpected error occurred with {filename}: {e}\")"
   ]
  },
  {
   "cell_type": "code",
   "execution_count": null,
   "id": "977fa33b-7b3a-41fa-beed-04964291ba87",
   "metadata": {},
   "outputs": [],
   "source": []
  }
 ],
 "metadata": {
  "kernelspec": {
   "display_name": "Python 3 (ipykernel)",
   "language": "python",
   "name": "python3"
  },
  "language_info": {
   "codemirror_mode": {
    "name": "ipython",
    "version": 3
   },
   "file_extension": ".py",
   "mimetype": "text/x-python",
   "name": "python",
   "nbconvert_exporter": "python",
   "pygments_lexer": "ipython3",
   "version": "3.13.5"
  }
 },
 "nbformat": 4,
 "nbformat_minor": 5
}
